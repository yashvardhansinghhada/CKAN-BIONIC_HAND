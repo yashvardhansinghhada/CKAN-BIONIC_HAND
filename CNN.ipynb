{
 "cells": [
  {
   "cell_type": "code",
   "execution_count": 3,
   "id": "bae326d6-960d-4098-a2f6-75b4fba23338",
   "metadata": {},
   "outputs": [
    {
     "name": "stdout",
     "output_type": "stream",
     "text": [
      "Requirement already satisfied: torchvision in c:\\users\\hp\\anaconda3\\lib\\site-packages (0.18.1)\n",
      "Requirement already satisfied: numpy in c:\\users\\hp\\anaconda3\\lib\\site-packages (from torchvision) (1.26.4)\n",
      "Requirement already satisfied: torch==2.3.1 in c:\\users\\hp\\anaconda3\\lib\\site-packages (from torchvision) (2.3.1)\n",
      "Requirement already satisfied: pillow!=8.3.*,>=5.3.0 in c:\\users\\hp\\anaconda3\\lib\\site-packages (from torchvision) (10.2.0)\n",
      "Requirement already satisfied: filelock in c:\\users\\hp\\anaconda3\\lib\\site-packages (from torch==2.3.1->torchvision) (3.13.1)\n",
      "Requirement already satisfied: typing-extensions>=4.8.0 in c:\\users\\hp\\anaconda3\\lib\\site-packages (from torch==2.3.1->torchvision) (4.9.0)\n",
      "Requirement already satisfied: sympy in c:\\users\\hp\\anaconda3\\lib\\site-packages (from torch==2.3.1->torchvision) (1.12)\n",
      "Requirement already satisfied: networkx in c:\\users\\hp\\anaconda3\\lib\\site-packages (from torch==2.3.1->torchvision) (3.1)\n",
      "Requirement already satisfied: jinja2 in c:\\users\\hp\\anaconda3\\lib\\site-packages (from torch==2.3.1->torchvision) (3.1.3)\n",
      "Requirement already satisfied: fsspec in c:\\users\\hp\\anaconda3\\lib\\site-packages (from torch==2.3.1->torchvision) (2023.10.0)\n",
      "Requirement already satisfied: mkl<=2021.4.0,>=2021.1.1 in c:\\users\\hp\\anaconda3\\lib\\site-packages (from torch==2.3.1->torchvision) (2021.4.0)\n",
      "Requirement already satisfied: intel-openmp==2021.* in c:\\users\\hp\\anaconda3\\lib\\site-packages (from mkl<=2021.4.0,>=2021.1.1->torch==2.3.1->torchvision) (2021.4.0)\n",
      "Requirement already satisfied: tbb==2021.* in c:\\users\\hp\\anaconda3\\lib\\site-packages (from mkl<=2021.4.0,>=2021.1.1->torch==2.3.1->torchvision) (2021.12.0)\n",
      "Requirement already satisfied: MarkupSafe>=2.0 in c:\\users\\hp\\anaconda3\\lib\\site-packages (from jinja2->torch==2.3.1->torchvision) (2.1.3)\n",
      "Requirement already satisfied: mpmath>=0.19 in c:\\users\\hp\\anaconda3\\lib\\site-packages (from sympy->torch==2.3.1->torchvision) (1.3.0)\n",
      "Note: you may need to restart the kernel to use updated packages.\n"
     ]
    }
   ],
   "source": [
    "pip install torchvision"
   ]
  },
  {
   "cell_type": "code",
   "execution_count": 1,
   "id": "749e613b-a648-40a1-a0bd-69218aad3600",
   "metadata": {},
   "outputs": [],
   "source": [
    "import rarfile\n",
    "import os\n",
    "import torch\n",
    "import torch\n",
    "import torch.nn as nn\n",
    "import torch.nn.functional as F\n",
    "from torchvision.utils import make_grid\n",
    "import torch.optim as optim\n",
    "import numpy as np\n",
    "import pandas as pd\n",
    "import matplotlib.pyplot as plt\n",
    "from sklearn.metrics import confusion_matrix\n",
    "\n",
    "from torch.utils.data import  TensorDataset\n",
    "from sklearn.datasets import load_iris\n",
    "from sklearn.model_selection import train_test_split\n",
    "import math\n",
    "from sklearn.preprocessing import StandardScaler"
   ]
  },
  {
   "cell_type": "code",
   "execution_count": 2,
   "id": "082d1eff-fd87-424e-b6b7-e57a62bad844",
   "metadata": {},
   "outputs": [],
   "source": [
    "from torchvision import datasets, transforms\n",
    "from torch.utils.data import DataLoader"
   ]
  },
  {
   "cell_type": "code",
   "execution_count": 4,
   "id": "8139d589-0cc5-441f-b03c-51ec9c7d5e29",
   "metadata": {},
   "outputs": [],
   "source": [
    "transform = transforms.Compose([\n",
    "     transforms.Resize((128, 128)),\n",
    "    transforms.ToTensor(),\n",
    "])\n",
    "batch_size = 100"
   ]
  },
  {
   "cell_type": "code",
   "execution_count": 5,
   "id": "efb7f198-8cb1-44d0-bd69-e6591c48cbea",
   "metadata": {},
   "outputs": [],
   "source": [
    "data_dir = \"SignalData\""
   ]
  },
  {
   "cell_type": "code",
   "execution_count": 6,
   "id": "9849891e-517d-419f-afc2-c282ad835b47",
   "metadata": {},
   "outputs": [],
   "source": [
    "train_dataset = datasets.ImageFolder(root=os.path.join(data_dir, 'train_spectrograms1'), transform=transform)\n",
    "\n",
    "# Load the testing dataset\n",
    "test_dataset = datasets.ImageFolder(root=os.path.join(data_dir, 'test_spectrograms1'), transform=transform)"
   ]
  },
  {
   "cell_type": "code",
   "execution_count": 7,
   "id": "d8445ae8-346f-42c3-8d84-45f21d6e1646",
   "metadata": {},
   "outputs": [],
   "source": [
    "train_loader = DataLoader(train_dataset, batch_size=32, shuffle=True)\n",
    "test_loader = DataLoader(test_dataset, batch_size=32, shuffle=False)"
   ]
  },
  {
   "cell_type": "code",
   "execution_count": 8,
   "id": "da33791c-9fee-45b9-9d37-96746f8d2f7b",
   "metadata": {},
   "outputs": [],
   "source": [
    "for X_train, y_train in train_loader:\n",
    "    pass"
   ]
  },
  {
   "cell_type": "code",
   "execution_count": 9,
   "id": "c8ea408d-8efc-4dd3-b8ad-932ea08d5007",
   "metadata": {},
   "outputs": [],
   "source": [
    "y_true=[]\n",
    "for X_test, y_test in test_loader:\n",
    "    output=y_test\n",
    "    y_true.append(output)"
   ]
  },
  {
   "cell_type": "code",
   "execution_count": 11,
   "id": "770e02e4-588e-492b-8e0d-4e80f262702a",
   "metadata": {},
   "outputs": [],
   "source": [
    "class CNN(nn.Module):\n",
    "    def __init__(self):\n",
    "        super(CNN, self).__init__()\n",
    "        # self.conv1 = nn.Conv2d(3, 32, kernel_size=2, padding=1)\n",
    "        # self.pool1 = nn.MaxPool2d(2)\n",
    "        # self.conv2 = nn.Conv2d(32, 64, kernel_size=2, padding=1)\n",
    "        # self.pool2 = nn.MaxPool2d(2)\n",
    "        # self.kan1 = KANLinear(64*32*32, 256)\n",
    "        # self.kan2 = KANLinear(256, 6)\n",
    "\n",
    "        # self.conv1 = nn.Conv2d(3, 32, kernel_size=2, padding=1)\n",
    "        # self.cbn1=nn.BatchNorm2d(32)\n",
    "        # self.pool1 = nn.MaxPool2d(2)\n",
    "        # self.conv2 = nn.Conv2d(32, 64, kernel_size=2, padding=1)\n",
    "        # self.cbn2=nn.BatchNorm2d(64)\n",
    "        # self.pool2 = nn.MaxPool2d(2)\n",
    "        # self.conv3 = nn.Conv2d(64, 128, kernel_size=2, padding=1)\n",
    "        # self.cbn3=nn.BatchNorm2d(128)\n",
    "        # self.pool3 = nn.MaxPool2d(2)\n",
    "        # self.kan1 = KANLinear(128*16*16, 256)\n",
    "        # self.kan2 = KANLinear(256, 64)\n",
    "        # self.kan3=KANLinear(64,6)\n",
    "\n",
    "        self.conv1 = nn.Conv2d(3, 32, kernel_size=2, padding=1)\n",
    "        self.cbn1=nn.BatchNorm2d(32)\n",
    "        self.pool1 = nn.MaxPool2d(2)\n",
    "        self.conv2 = nn.Conv2d(32, 64, kernel_size=2, padding=1)\n",
    "        self.cbn2=nn.BatchNorm2d(64)\n",
    "        self.pool2 = nn.MaxPool2d(2)\n",
    "        self.conv3 = nn.Conv2d(64, 128, kernel_size=2, padding=1)\n",
    "        self.cbn3=nn.BatchNorm2d(128)\n",
    "        self.pool3 = nn.MaxPool2d(2)\n",
    "        self.fc1 = nn.Linear(128*16*16, 256)\n",
    "        self.fc2 = nn.Linear(256, 64)\n",
    "        self.fc3=nn.Linear(64,6)\n",
    "\n",
    "    def forward(self, x):\n",
    "        x = F.selu(self.conv1(x))\n",
    "        x=self.cbn1(x)\n",
    "        x = self.pool1(x)\n",
    "        x = F.selu(self.conv2(x))\n",
    "        x=self.cbn2(x)\n",
    "        x = self.pool2(x)\n",
    "        x=F.selu(self.conv3(x))\n",
    "        x=self.cbn3(x)\n",
    "        x = self.pool3(x)\n",
    "        x = x.view(x.size(0), -1)\n",
    "        x = self.fc1(x)\n",
    "        x = self.fc2(x)\n",
    "        x=self.fc3(x)\n",
    "        return x"
   ]
  },
  {
   "cell_type": "code",
   "execution_count": 12,
   "id": "a2267329-3e4b-4d1d-ac7c-cc100c0bfe9b",
   "metadata": {},
   "outputs": [],
   "source": [
    "model=CNN()"
   ]
  },
  {
   "cell_type": "code",
   "execution_count": 13,
   "id": "cd84bfeb-1dc6-46ce-abe3-c9a26c60dd42",
   "metadata": {},
   "outputs": [
    {
     "data": {
      "text/plain": [
       "CNN(\n",
       "  (conv1): Conv2d(3, 32, kernel_size=(2, 2), stride=(1, 1), padding=(1, 1))\n",
       "  (cbn1): BatchNorm2d(32, eps=1e-05, momentum=0.1, affine=True, track_running_stats=True)\n",
       "  (pool1): MaxPool2d(kernel_size=2, stride=2, padding=0, dilation=1, ceil_mode=False)\n",
       "  (conv2): Conv2d(32, 64, kernel_size=(2, 2), stride=(1, 1), padding=(1, 1))\n",
       "  (cbn2): BatchNorm2d(64, eps=1e-05, momentum=0.1, affine=True, track_running_stats=True)\n",
       "  (pool2): MaxPool2d(kernel_size=2, stride=2, padding=0, dilation=1, ceil_mode=False)\n",
       "  (conv3): Conv2d(64, 128, kernel_size=(2, 2), stride=(1, 1), padding=(1, 1))\n",
       "  (cbn3): BatchNorm2d(128, eps=1e-05, momentum=0.1, affine=True, track_running_stats=True)\n",
       "  (pool3): MaxPool2d(kernel_size=2, stride=2, padding=0, dilation=1, ceil_mode=False)\n",
       "  (fc1): Linear(in_features=32768, out_features=256, bias=True)\n",
       "  (fc2): Linear(in_features=256, out_features=64, bias=True)\n",
       "  (fc3): Linear(in_features=64, out_features=6, bias=True)\n",
       ")"
      ]
     },
     "execution_count": 13,
     "metadata": {},
     "output_type": "execute_result"
    }
   ],
   "source": [
    "model"
   ]
  },
  {
   "cell_type": "code",
   "execution_count": 14,
   "id": "dd00df8b-8456-4ef0-87f4-9c24bf4b8710",
   "metadata": {},
   "outputs": [],
   "source": [
    "criterion = nn.CrossEntropyLoss()\n",
    "optimizer = optim.Adam(model.parameters(), lr=0.001)"
   ]
  },
  {
   "cell_type": "code",
   "execution_count": 15,
   "id": "d466bcc8-af85-4f04-bc6d-9c7d096b062c",
   "metadata": {},
   "outputs": [
    {
     "name": "stdout",
     "output_type": "stream",
     "text": [
      "Epoch 1/1, Loss: 7.8587\n"
     ]
    }
   ],
   "source": [
    "num_epochs = 1\n",
    "\n",
    "for epoch in range(num_epochs):\n",
    "    model.train()\n",
    "    running_loss = 0.0\n",
    "    for X_batch, y_batch in train_loader:\n",
    "        optimizer.zero_grad()\n",
    "        outputs = model(X_batch)\n",
    "        loss = criterion(outputs, y_batch)\n",
    "        loss.backward()\n",
    "        optimizer.step()\n",
    "        running_loss += loss.item()\n",
    "\n",
    "    print(f\"Epoch {epoch+1}/{num_epochs}, Loss: {running_loss/len(train_loader):.4f}\")\n"
   ]
  },
  {
   "cell_type": "code",
   "execution_count": 16,
   "id": "36182003-5d8a-4aeb-aafc-fcfbaa4a0cd2",
   "metadata": {},
   "outputs": [
    {
     "name": "stdout",
     "output_type": "stream",
     "text": [
      "tensor([0, 1, 1, 1, 1, 1, 1, 4, 1, 1, 4, 1, 1, 1, 1, 3, 1, 0, 1, 3, 1, 1, 0, 1,\n",
      "        0, 1, 1, 1, 0, 1, 1, 1])\n",
      "tensor([0, 0, 0, 0, 0, 0, 0, 0, 0, 0, 0, 0, 0, 0, 0, 0, 0, 0, 0, 0, 0, 0, 0, 0,\n",
      "        0, 0, 0, 0, 0, 0, 0, 0])\n",
      "\n",
      "tensor([0, 1, 0, 1, 0, 0, 1, 1, 0, 0, 0, 3, 1, 1, 0, 0, 1, 0, 0, 0, 1, 1, 1, 1,\n",
      "        0, 1, 3, 1, 1, 1, 0, 1])\n",
      "tensor([0, 0, 0, 0, 0, 0, 0, 0, 0, 0, 0, 0, 0, 0, 0, 0, 0, 0, 0, 0, 0, 0, 0, 0,\n",
      "        0, 0, 0, 0, 0, 0, 0, 1])\n",
      "\n",
      "tensor([3, 3, 1, 1, 1, 1, 1, 1, 1, 1, 1, 1, 1, 1, 3, 1, 1, 3, 1, 1, 1, 1, 1, 1,\n",
      "        1, 3, 3, 1, 1, 1, 1, 1])\n",
      "tensor([1, 1, 1, 1, 1, 1, 1, 1, 1, 1, 1, 1, 1, 1, 1, 1, 1, 1, 1, 1, 1, 1, 1, 1,\n",
      "        1, 1, 1, 1, 1, 1, 1, 1])\n",
      "\n",
      "tensor([1, 1, 3, 1, 1, 1, 1, 1, 1, 1, 1, 3, 1, 1, 1, 1, 1, 1, 3, 3, 1, 1, 3, 1,\n",
      "        1, 1, 3, 1, 1, 1, 1, 1])\n",
      "tensor([1, 1, 1, 1, 1, 1, 1, 1, 1, 1, 1, 1, 1, 1, 1, 1, 1, 1, 1, 1, 1, 1, 1, 1,\n",
      "        1, 1, 1, 1, 1, 2, 2, 2])\n",
      "\n",
      "tensor([1, 3, 1, 1, 1, 1, 1, 1, 1, 1, 1, 1, 1, 1, 1, 1, 3, 1, 1, 1, 1, 4, 1, 1,\n",
      "        1, 1, 1, 3, 1, 1, 1, 1])\n",
      "tensor([2, 2, 2, 2, 2, 2, 2, 2, 2, 2, 2, 2, 2, 2, 2, 2, 2, 2, 2, 2, 2, 2, 2, 2,\n",
      "        2, 2, 2, 2, 2, 2, 2, 2])\n",
      "\n",
      "tensor([1, 1, 1, 1, 1, 1, 1, 1, 1, 3, 1, 1, 1, 1, 1, 1, 1, 1, 2, 1, 3, 1, 1, 1,\n",
      "        1, 1, 1, 1, 1, 3, 3, 1])\n",
      "tensor([2, 2, 2, 2, 2, 2, 2, 2, 2, 2, 2, 2, 2, 2, 2, 2, 2, 2, 2, 2, 2, 2, 2, 2,\n",
      "        2, 2, 2, 3, 3, 3, 3, 3])\n",
      "\n",
      "tensor([1, 1, 3, 1, 1, 1, 1, 3, 3, 3, 3, 1, 1, 1, 1, 1, 3, 1, 3, 1, 3, 1, 1, 1,\n",
      "        1, 1, 3, 1, 1, 1, 3, 3])\n",
      "tensor([3, 3, 3, 3, 3, 3, 3, 3, 3, 3, 3, 3, 3, 3, 3, 3, 3, 3, 3, 3, 3, 3, 3, 3,\n",
      "        3, 3, 3, 3, 3, 3, 3, 3])\n",
      "\n",
      "tensor([1, 3, 3, 1, 3, 1, 1, 3, 1, 1, 1, 1, 3, 3, 1, 1, 1, 3, 1, 1, 1, 1, 3, 1,\n",
      "        3, 4, 1, 4, 1, 1, 3, 3])\n",
      "tensor([3, 3, 3, 3, 3, 3, 3, 3, 3, 3, 3, 3, 3, 3, 3, 3, 3, 3, 3, 3, 3, 3, 3, 3,\n",
      "        3, 4, 4, 4, 4, 4, 4, 4])\n",
      "\n",
      "tensor([1, 4, 4, 1, 3, 4, 4, 4, 1, 4, 1, 4, 4, 1, 1, 4, 4, 1, 1, 1, 1, 4, 4, 4,\n",
      "        1, 1, 1, 1, 3, 1, 1, 1])\n",
      "tensor([4, 4, 4, 4, 4, 4, 4, 4, 4, 4, 4, 4, 4, 4, 4, 4, 4, 4, 4, 4, 4, 4, 4, 4,\n",
      "        4, 4, 4, 4, 4, 4, 4, 4])\n",
      "\n",
      "tensor([3, 1, 3, 4, 1, 1, 1, 4, 4, 1, 4, 1, 4, 4, 1, 1, 4, 4, 1, 1, 1, 4, 1, 5,\n",
      "        5, 5, 5, 5, 5, 5, 5, 5])\n",
      "tensor([4, 4, 4, 4, 4, 4, 4, 4, 4, 4, 4, 4, 4, 4, 4, 4, 4, 4, 4, 4, 4, 4, 4, 5,\n",
      "        5, 5, 5, 5, 5, 5, 5, 5])\n",
      "\n",
      "tensor([5, 5, 5, 5, 5, 5, 0, 5, 5, 5, 5, 5, 5, 5, 5, 5, 5, 5, 5, 5, 5, 5, 5, 5,\n",
      "        5, 5, 5, 5, 5, 5, 5, 5])\n",
      "tensor([5, 5, 5, 5, 5, 5, 5, 5, 5, 5, 5, 5, 5, 5, 5, 5, 5, 5, 5, 5, 5, 5, 5, 5,\n",
      "        5, 5, 5, 5, 5, 5, 5, 5])\n",
      "\n",
      "tensor([5, 5, 5, 5, 5, 5, 5, 5, 5, 5, 5, 5, 5, 5, 5, 5, 5, 5, 5, 5, 5])\n",
      "tensor([5, 5, 5, 5, 5, 5, 5, 5, 5, 5, 5, 5, 5, 5, 5, 5, 5, 5, 5, 5, 5])\n",
      "\n",
      "Test Accuracy: 47.45%\n"
     ]
    }
   ],
   "source": [
    "model.eval()\n",
    "correct = 0\n",
    "total = 0\n",
    "predicted_label=[]\n",
    "with torch.no_grad():\n",
    "    for X_batch, y_batch in test_loader:\n",
    "        outputs = model(X_batch)\n",
    "        _, predicted = torch.max(outputs.data, 1)\n",
    "        print(predicted)\n",
    "        print(y_batch)\n",
    "        print(\"\")\n",
    "        predicted_label.append(predicted)\n",
    "        total += y_batch.size(0)\n",
    "        correct += (predicted == y_batch).sum().item()\n",
    "\n",
    "print(f\"Test Accuracy: {100 * correct / total:.2f}%\")"
   ]
  },
  {
   "cell_type": "code",
   "execution_count": 17,
   "id": "488e8f61-85a5-40a3-98db-369ee51f0717",
   "metadata": {},
   "outputs": [],
   "source": [
    "from sklearn.metrics import classification_report,ConfusionMatrixDisplay,confusion_matrix"
   ]
  },
  {
   "cell_type": "code",
   "execution_count": 18,
   "id": "5052cdaf-df54-4f98-86c5-e9bc651d5520",
   "metadata": {},
   "outputs": [],
   "source": [
    "predicted_label=torch.cat(predicted_label)"
   ]
  },
  {
   "cell_type": "code",
   "execution_count": 19,
   "id": "75d87a6e-0b21-4a76-a645-2874a895408f",
   "metadata": {},
   "outputs": [],
   "source": [
    "y_true=torch.cat(y_true)"
   ]
  },
  {
   "cell_type": "code",
   "execution_count": 20,
   "id": "72b61083-d247-4301-94b7-1b5a6b9ccdc5",
   "metadata": {},
   "outputs": [],
   "source": [
    "cm=confusion_matrix(y_true,predicted_label)"
   ]
  },
  {
   "cell_type": "code",
   "execution_count": 21,
   "id": "f956617b-c255-4a11-b8e7-3379ac71ecfb",
   "metadata": {},
   "outputs": [
    {
     "data": {
      "text/plain": [
       "<sklearn.metrics._plot.confusion_matrix.ConfusionMatrixDisplay at 0x22b0ebb6f90>"
      ]
     },
     "execution_count": 21,
     "metadata": {},
     "output_type": "execute_result"
    },
    {
     "data": {
      "image/png": "[encoded data removed]",
      "text/plain": [
       "<Figure size 640x480 with 2 Axes>"
      ]
     },
     "metadata": {},
     "output_type": "display_data"
    }
   ],
   "source": [
    "ConfusionMatrixDisplay(cm).plot()"
   ]
  },
  {
   "cell_type": "code",
   "execution_count": 22,
   "id": "196ea3a3-d787-403a-8a56-dca5f2767e46",
   "metadata": {},
   "outputs": [
    {
     "name": "stdout",
     "output_type": "stream",
     "text": [
      "              precision    recall  f1-score   support\n",
      "\n",
      "           0       0.95      0.30      0.46        63\n",
      "           1       0.23      0.81      0.36        62\n",
      "           2       1.00      0.02      0.03        62\n",
      "           3       0.45      0.35      0.40        62\n",
      "           4       0.89      0.39      0.54        62\n",
      "           5       1.00      0.98      0.99        62\n",
      "\n",
      "    accuracy                           0.47       373\n",
      "   macro avg       0.75      0.47      0.46       373\n",
      "weighted avg       0.75      0.47      0.46       373\n",
      "\n"
     ]
    }
   ],
   "source": [
    "print(classification_report(y_true,predicted_label))"
   ]
  },
  {
   "cell_type": "code",
   "execution_count": null,
   "id": "ee17b5d4-d3f4-4da1-b2ab-d870ed4c44ed",
   "metadata": {},
   "outputs": [],
   "source": []
  }
 ],
 "metadata": {
  "kernelspec": {
   "display_name": "Python 3 (ipykernel)",
   "language": "python",
   "name": "python3"
  },
  "language_info": {
   "codemirror_mode": {
    "name": "ipython",
    "version": 3
   },
   "file_extension": ".py",
   "mimetype": "text/x-python",
   "name": "python",
   "nbconvert_exporter": "python",
   "pygments_lexer": "ipython3",
   "version": "3.11.7"
  }
 },
 "nbformat": 4,
 "nbformat_minor": 5
}
